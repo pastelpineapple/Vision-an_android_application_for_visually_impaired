{
  "nbformat": 4,
  "nbformat_minor": 0,
  "metadata": {
    "colab": {
      "provenance": []
    },
    "kernelspec": {
      "name": "python3",
      "display_name": "Python 3"
    },
    "accelerator": "GPU"
  },
  "cells": [
    {
      "cell_type": "code",
      "metadata": {
        "id": "fsmJ18SaVM07"
      },
      "source": [
        "import os\n",
        "import zipfile\n",
        "import random\n",
        "import tensorflow as tf\n",
        "from tensorflow.keras.optimizers import RMSprop\n",
        "from tensorflow.keras.preprocessing.image import ImageDataGenerator\n",
        "from shutil import copyfile\n",
        "import tensorflow_hub as hub\n",
        "from tensorflow import keras\n",
        "from tensorflow.keras import layers\n",
        "\n"
      ],
      "execution_count": 2,
      "outputs": []
    },
    {
      "cell_type": "code",
      "source": [
        "from google.colab import drive\n",
        "drive.mount('/content/drive')"
      ],
      "metadata": {
        "colab": {
          "base_uri": "https://localhost:8080/"
        },
        "id": "pgmEhzKwnxpw",
        "outputId": "9b141c60-7d3d-41ed-a422-bc9a0418ab0a"
      },
      "execution_count": 3,
      "outputs": [
        {
          "output_type": "stream",
          "name": "stdout",
          "text": [
            "Mounted at /content/drive\n"
          ]
        }
      ]
    },
    {
      "cell_type": "markdown",
      "metadata": {
        "id": "RSEEWBSIXpBh"
      },
      "source": []
    },
    {
      "cell_type": "code",
      "metadata": {
        "id": "hZydPksyXpfJ"
      },
      "source": [
        "local_zip = '/content/drive/My Drive/Thai and Indian Currency Dataset256x256.zip'\n",
        "zip_ref = zipfile.ZipFile(local_zip, 'r')\n",
        "zip_ref.extractall('/tmp/')\n",
        "zip_ref.close()\n",
        "!rm -rf '/tmp/Thai and Indian Currency Dataset256x256/Thai Currencies'\n",
        "!rm -rf '/tmp/Thai and Indian Currency Dataset256x256/Indian Currencies/2000/INDIA2000_16.jpg'\n"
      ],
      "execution_count": 4,
      "outputs": []
    },
    {
      "cell_type": "markdown",
      "metadata": {
        "id": "s9Yo4hRIYU-S"
      },
      "source": []
    },
    {
      "cell_type": "code",
      "metadata": {
        "id": "nb-4xGBmYVSl"
      },
      "source": [
        "train_10_New = os.path.join('/tmp/Thai and Indian Currency Dataset256x256/Indian Currencies/10 New')\n",
        "train_10_Old = os.path.join('/tmp/Thai and Indian Currency Dataset256x256/Indian Currencies/10 Old')\n",
        "train_100_New = os.path.join('/tmp/Thai and Indian Currency Dataset256x256/Indian Currencies/100 New')\n",
        "train_100_Old = os.path.join('/tmp/Thai and Indian Currency Dataset256x256/Indian Currencies/100 Old')\n",
        "train_20 = os.path.join('/tmp/Thai and Indian Currency Dataset256x256/Indian Currencies/20')\n",
        "train_200 = os.path.join('/tmp/Thai and Indian Currency Dataset256x256/Indian Currencies/200')\n",
        "train_2000 = os.path.join('/tmp/Thai and Indian Currency Dataset256x256/Indian Currencies/2000')\n",
        "train_50_New = os.path.join('/tmp/Thai and Indian Currency Dataset256x256/Indian Currencies/50 New')\n",
        "train_50_Old = os.path.join('/tmp/Thai and Indian Currency Dataset256x256/Indian Currencies/50 Old')\n",
        "train_500 = os.path.join('/tmp/Thai and Indian Currency Dataset256x256/Indian Currencies/500')"
      ],
      "execution_count": 5,
      "outputs": []
    },
    {
      "cell_type": "markdown",
      "metadata": {
        "id": "QJF15phlYgBX"
      },
      "source": []
    },
    {
      "cell_type": "code",
      "metadata": {
        "id": "oRTmnxVdYgVi",
        "outputId": "81537d3b-3d83-43ce-b84c-719e1f71431f",
        "colab": {
          "base_uri": "https://localhost:8080/"
        }
      },
      "source": [
        "print('total training images of 10 New: ', len(os.listdir(train_10_New)))\n",
        "print('total training images of 10 Old: ', len(os.listdir(train_10_Old)))\n",
        "print('total training images of 100 New:', len(os.listdir(train_100_New)))\n",
        "print('total training images of 100 Old:', len(os.listdir(train_100_Old)))\n",
        "print('total training images of 20:     ', len(os.listdir(train_20)))\n",
        "print('total training images of 200:    ', len(os.listdir(train_200)))\n",
        "print('total training images of 2000:   ', len(os.listdir(train_2000)))\n",
        "print('total training images of 50 New: ', len(os.listdir(train_50_New)))\n",
        "print('total training images of 50 Old: ', len(os.listdir(train_50_Old)))\n",
        "print('total training images of 500:    ', len(os.listdir(train_500)))"
      ],
      "execution_count": 6,
      "outputs": [
        {
          "output_type": "stream",
          "name": "stdout",
          "text": [
            "total training images of 10 New:  250\n",
            "total training images of 10 Old:  190\n",
            "total training images of 100 New: 190\n",
            "total training images of 100 Old: 190\n",
            "total training images of 20:      190\n",
            "total training images of 200:     190\n",
            "total training images of 2000:    189\n",
            "total training images of 50 New:  190\n",
            "total training images of 50 Old:  190\n",
            "total training images of 500:     190\n"
          ]
        }
      ]
    },
    {
      "cell_type": "markdown",
      "metadata": {
        "id": "HOTRaHbQZIIW"
      },
      "source": []
    },
    {
      "cell_type": "code",
      "metadata": {
        "id": "u24Yw3LaT6Vq",
        "outputId": "f88bd028-f7cf-44bc-b7eb-032f42ee21a9",
        "colab": {
          "base_uri": "https://localhost:8080/"
        }
      },
      "source": [
        "to_create = [\n",
        "    '/tmp/indiancurrency',\n",
        "    '/tmp/indiancurrency/training',\n",
        "    '/tmp/indiancurrency/testing',\n",
        "    '/tmp/indiancurrency/training/10New',\n",
        "    '/tmp/indiancurrency/testing/10New',\n",
        "    '/tmp/indiancurrency/training/10Old',\n",
        "    '/tmp/indiancurrency/testing/10Old',\n",
        "    '/tmp/indiancurrency/training/100New',\n",
        "    '/tmp/indiancurrency/testing/100New',\n",
        "    '/tmp/indiancurrency/training/100Old',\n",
        "    '/tmp/indiancurrency/testing/100Old',\n",
        "    '/tmp/indiancurrency/training/20',\n",
        "    '/tmp/indiancurrency/testing/20',\n",
        "    '/tmp/indiancurrency/training/200',\n",
        "    '/tmp/indiancurrency/testing/200',\n",
        "    '/tmp/indiancurrency/training/2000',\n",
        "    '/tmp/indiancurrency/testing/2000',\n",
        "    '/tmp/indiancurrency/training/50New',\n",
        "    '/tmp/indiancurrency/testing/50New',\n",
        "    '/tmp/indiancurrency/training/50Old',\n",
        "    '/tmp/indiancurrency/testing/50Old',\n",
        "    '/tmp/indiancurrency/training/500',\n",
        "    '/tmp/indiancurrency/testing/500'\n",
        "]\n",
        "\n",
        "for directory in to_create:\n",
        "    try:\n",
        "        os.mkdir(directory)\n",
        "        print(directory, 'created')\n",
        "    except:\n",
        "        print(directory, 'failed')"
      ],
      "execution_count": 7,
      "outputs": [
        {
          "output_type": "stream",
          "name": "stdout",
          "text": [
            "/tmp/indiancurrency created\n",
            "/tmp/indiancurrency/training created\n",
            "/tmp/indiancurrency/testing created\n",
            "/tmp/indiancurrency/training/10New created\n",
            "/tmp/indiancurrency/testing/10New created\n",
            "/tmp/indiancurrency/training/10Old created\n",
            "/tmp/indiancurrency/testing/10Old created\n",
            "/tmp/indiancurrency/training/100New created\n",
            "/tmp/indiancurrency/testing/100New created\n",
            "/tmp/indiancurrency/training/100Old created\n",
            "/tmp/indiancurrency/testing/100Old created\n",
            "/tmp/indiancurrency/training/20 created\n",
            "/tmp/indiancurrency/testing/20 created\n",
            "/tmp/indiancurrency/training/200 created\n",
            "/tmp/indiancurrency/testing/200 created\n",
            "/tmp/indiancurrency/training/2000 created\n",
            "/tmp/indiancurrency/testing/2000 created\n",
            "/tmp/indiancurrency/training/50New created\n",
            "/tmp/indiancurrency/testing/50New created\n",
            "/tmp/indiancurrency/training/50Old created\n",
            "/tmp/indiancurrency/testing/50Old created\n",
            "/tmp/indiancurrency/training/500 created\n",
            "/tmp/indiancurrency/testing/500 created\n"
          ]
        }
      ]
    },
    {
      "cell_type": "code",
      "metadata": {
        "id": "pqkJQaJfUdtZ",
        "outputId": "470eddc6-611a-4766-a198-c76c63c73825",
        "colab": {
          "base_uri": "https://localhost:8080/"
        }
      },
      "source": [
        "def split_data(SOURCE, TRAINING, TESTING, SPLIT_SIZE):\n",
        "    all_files = []\n",
        "    \n",
        "    for file_name in os.listdir(SOURCE):\n",
        "        file_path = SOURCE + file_name\n",
        "\n",
        "        if os.path.getsize(file_path):\n",
        "            all_files.append(file_name)\n",
        "        else:\n",
        "            print('{} is zero length, so ignoring'.format(file_name))\n",
        "    \n",
        "    n_files = len(all_files)\n",
        "    split_point = int(n_files * SPLIT_SIZE)\n",
        "    \n",
        "    shuffled = random.sample(all_files, n_files)\n",
        "    \n",
        "    train_set = shuffled[:split_point]\n",
        "    test_set = shuffled[split_point:]\n",
        "    \n",
        "    for file_name in train_set:\n",
        "        copyfile(SOURCE + file_name, TRAINING + file_name)\n",
        "        \n",
        "    for file_name in test_set:\n",
        "        copyfile(SOURCE + file_name, TESTING + file_name)\n",
        "\n",
        "split_size = .9\n",
        "\n",
        "NEW10_SOURCE_DIR = r\"/tmp/Thai and Indian Currency Dataset256x256/Indian Currencies/10 New/\"\n",
        "TRAINING_NEW10_DIR = r\"/tmp/indiancurrency/training/10New/\"\n",
        "TESTING_NEW10_DIR = r\"/tmp/indiancurrency/testing/10New/\"\n",
        "\n",
        "split_data(NEW10_SOURCE_DIR, TRAINING_NEW10_DIR, TESTING_NEW10_DIR, split_size)\n",
        "\n",
        "Old10_SOURCE_DIR = r\"/tmp/Thai and Indian Currency Dataset256x256/Indian Currencies/10 Old/\"\n",
        "TRAINING_OLD10_DIR = r\"/tmp/indiancurrency/training/10New/\"\n",
        "TESTING_OLD10_DIR = r\"/tmp/indiancurrency/testing/10New/\"\n",
        "\n",
        "split_data(Old10_SOURCE_DIR, TRAINING_OLD10_DIR, TESTING_OLD10_DIR, split_size)\n",
        "\n",
        "NEW100_SOURCE_DIR = r\"/tmp/Thai and Indian Currency Dataset256x256/Indian Currencies/100 New/\"\n",
        "TRAINING_NEW100_DIR = r\"/tmp/indiancurrency/training/100New/\"\n",
        "TESTING_NEW100_DIR = r\"/tmp/indiancurrency/testing/100New/\"\n",
        "\n",
        "split_data(NEW100_SOURCE_DIR, TRAINING_NEW100_DIR, TESTING_NEW100_DIR, split_size)\n",
        "\n",
        "OLD100_SOURCE_DIR = r\"/tmp/Thai and Indian Currency Dataset256x256/Indian Currencies/100 Old/\"\n",
        "TRAINING_OLD100_DIR = r\"/tmp/indiancurrency/training/100Old/\"\n",
        "TESTING_OLD100_DIR = r\"/tmp/indiancurrency/testing/100Old/\"\n",
        "\n",
        "split_data(OLD100_SOURCE_DIR, TRAINING_OLD100_DIR, TESTING_OLD100_DIR, split_size)\n",
        "\n",
        "NEW20_SOURCE_DIR = r\"/tmp/Thai and Indian Currency Dataset256x256/Indian Currencies/20/\"\n",
        "TRAINING_NEW20_DIR = r\"/tmp/indiancurrency/training/20/\"\n",
        "TESTING_NEW20_DIR = r\"/tmp/indiancurrency/testing/20/\"\n",
        "\n",
        "split_data(NEW20_SOURCE_DIR, TRAINING_NEW20_DIR, TESTING_NEW20_DIR, split_size)\n",
        "\n",
        "NEW200_SOURCE_DIR = r\"/tmp/Thai and Indian Currency Dataset256x256/Indian Currencies/200/\"\n",
        "TRAINING_NEW200_DIR = r\"/tmp/indiancurrency/training/200/\"\n",
        "TESTING_NEW200_DIR = r\"/tmp/indiancurrency/testing/200/\"\n",
        "\n",
        "split_data(NEW200_SOURCE_DIR, TRAINING_NEW200_DIR, TESTING_NEW200_DIR, split_size)\n",
        "\n",
        "NEW2000_SOURCE_DIR = r\"/tmp/Thai and Indian Currency Dataset256x256/Indian Currencies/2000/\"\n",
        "TRAINING_NEW2000_DIR = r\"/tmp/indiancurrency/training/2000/\"\n",
        "TESTING_NEW2000_DIR = r\"/tmp/indiancurrency/testing/2000/\"\n",
        "\n",
        "split_data(NEW2000_SOURCE_DIR, TRAINING_NEW2000_DIR, TESTING_NEW2000_DIR, split_size)\n",
        "\n",
        "NEW50_SOURCE_DIR = r\"/tmp/Thai and Indian Currency Dataset256x256/Indian Currencies/50 New/\"\n",
        "TRAINING_NEW50_DIR = r\"/tmp/indiancurrency/training/50New/\"\n",
        "TESTING_NEW50_DIR = r\"/tmp/indiancurrency/testing/50New/\"\n",
        "\n",
        "split_data(NEW50_SOURCE_DIR, TRAINING_NEW50_DIR, TESTING_NEW50_DIR, split_size)\n",
        "\n",
        "OLD50_SOURCE_DIR = r\"/tmp/Thai and Indian Currency Dataset256x256/Indian Currencies/50 Old/\"\n",
        "TRAINING_OLD50_DIR = r\"/tmp/indiancurrency/training/50Old/\"\n",
        "TESTING_OLD50_DIR = r\"/tmp/indiancurrency/testing/50Old/\"\n",
        "\n",
        "split_data(OLD50_SOURCE_DIR, TRAINING_OLD50_DIR, TESTING_OLD50_DIR, split_size)\n",
        "\n",
        "NEW500_SOURCE_DIR = r\"/tmp/Thai and Indian Currency Dataset256x256/Indian Currencies/500/\"\n",
        "TRAINING_NEW500_DIR = r\"/tmp/indiancurrency/training/500/\"\n",
        "TESTING_NEW500_DIR = r\"/tmp/indiancurrency/testing/500/\"\n",
        "\n",
        "split_data(NEW500_SOURCE_DIR, TRAINING_NEW500_DIR, TESTING_NEW500_DIR, split_size)\n",
        "\n",
        "print(len(os.listdir(TRAINING_NEW10_DIR)))\n",
        "print(len(os.listdir(TESTING_NEW10_DIR)))\n",
        "\n",
        "print(len(os.listdir(TRAINING_OLD10_DIR)))\n",
        "print(len(os.listdir(TESTING_OLD10_DIR)))\n",
        "\n",
        "print(len(os.listdir(TRAINING_NEW100_DIR)))\n",
        "print(len(os.listdir(TESTING_NEW100_DIR)))\n",
        "\n",
        "print(len(os.listdir(TRAINING_OLD100_DIR)))\n",
        "print(len(os.listdir(TESTING_OLD100_DIR)))\n",
        "\n",
        "print(len(os.listdir(TRAINING_NEW20_DIR)))\n",
        "print(len(os.listdir(TESTING_NEW20_DIR)))\n",
        "\n",
        "print(len(os.listdir(TRAINING_NEW200_DIR)))\n",
        "print(len(os.listdir(TESTING_NEW200_DIR)))\n",
        "\n",
        "print(len(os.listdir(TRAINING_NEW2000_DIR)))\n",
        "print(len(os.listdir(TESTING_NEW2000_DIR)))\n",
        "\n",
        "print(len(os.listdir(TRAINING_NEW50_DIR)))\n",
        "print(len(os.listdir(TESTING_NEW50_DIR)))\n",
        "\n",
        "print(len(os.listdir(TRAINING_OLD50_DIR)))\n",
        "print(len(os.listdir(TESTING_OLD50_DIR)))\n",
        "\n",
        "print(len(os.listdir(TRAINING_NEW500_DIR)))\n",
        "print(len(os.listdir(TESTING_NEW500_DIR)))\n",
        "\n",
        "\n"
      ],
      "execution_count": 8,
      "outputs": [
        {
          "output_type": "stream",
          "name": "stdout",
          "text": [
            "396\n",
            "44\n",
            "396\n",
            "44\n",
            "171\n",
            "19\n",
            "171\n",
            "19\n",
            "171\n",
            "19\n",
            "171\n",
            "19\n",
            "170\n",
            "19\n",
            "171\n",
            "19\n",
            "171\n",
            "19\n",
            "171\n",
            "19\n"
          ]
        }
      ]
    },
    {
      "cell_type": "code",
      "metadata": {
        "id": "KpdELB-ZZIYC",
        "colab": {
          "base_uri": "https://localhost:8080/"
        },
        "outputId": "38a419f4-2f35-4085-8328-68c7f6b2bd1b"
      },
      "source": [
        "class myCallback(tf.keras.callbacks.Callback):\n",
        "  def on_epoch_end(self, epoch, logs={}):\n",
        "    if(logs.get('accuracy')>0.95):\n",
        "      print(\"\\nReached 70% accuracy so cancelling training!\")\n",
        "      self.model.stop_training = True\n",
        "\n",
        "callbacks = myCallback()\n",
        "\n",
        "# Load a convolutional base with pre-trained weights (IMPROVED)\n",
        "base_model = keras.applications.MobileNetV2(\n",
        "    input_shape=(256, 256, 3),\n",
        "    weights='imagenet',\n",
        "    include_top=False,\n",
        "    pooling='avg')\n",
        "\n",
        "# Freeze the base model\n",
        "base_model.trainable = False\n",
        "\n",
        "# Use a Sequential model to add a trainable classifier on top\n",
        "model = keras.Sequential([\n",
        "    base_model,\n",
        "    layers.Dense(10, activation='softmax'),\n",
        "])"
      ],
      "execution_count": 17,
      "outputs": [
        {
          "output_type": "stream",
          "name": "stderr",
          "text": [
            "WARNING:tensorflow:`input_shape` is undefined or non-square, or `rows` is not in [96, 128, 160, 192, 224]. Weights for input shape (224, 224) will be loaded as the default.\n"
          ]
        }
      ]
    },
    {
      "cell_type": "markdown",
      "metadata": {
        "id": "Fl04tgKpZOHM"
      },
      "source": []
    },
    {
      "cell_type": "code",
      "metadata": {
        "id": "7DggEe7QZOXg",
        "outputId": "6c460db4-5bdb-438f-a30e-53c6bffbbaaa",
        "colab": {
          "base_uri": "https://localhost:8080/"
        }
      },
      "source": [
        "model.summary()"
      ],
      "execution_count": 18,
      "outputs": [
        {
          "output_type": "stream",
          "name": "stdout",
          "text": [
            "Model: \"sequential_1\"\n",
            "_________________________________________________________________\n",
            " Layer (type)                Output Shape              Param #   \n",
            "=================================================================\n",
            " mobilenetv2_1.00_224 (Funct  (None, 1280)             2257984   \n",
            " ional)                                                          \n",
            "                                                                 \n",
            " dense_1 (Dense)             (None, 10)                12810     \n",
            "                                                                 \n",
            "=================================================================\n",
            "Total params: 2,270,794\n",
            "Trainable params: 12,810\n",
            "Non-trainable params: 2,257,984\n",
            "_________________________________________________________________\n"
          ]
        }
      ]
    },
    {
      "cell_type": "markdown",
      "metadata": {
        "id": "vMbjWy1JZQc0"
      },
      "source": []
    },
    {
      "cell_type": "code",
      "metadata": {
        "id": "6zvATy1zZQ24"
      },
      "source": [
        "model.compile(loss = 'categorical_crossentropy', optimizer='rmsprop', metrics=['accuracy'])\n",
        "#model.compile(optimizer='adam', loss='categorical_crossentropy', metrics=['accuracy'])"
      ],
      "execution_count": 19,
      "outputs": []
    },
    {
      "cell_type": "markdown",
      "metadata": {
        "id": "b03gfS8_Zi4V"
      },
      "source": []
    },
    {
      "cell_type": "code",
      "metadata": {
        "id": "4kGimKM-ZjKw"
      },
      "source": [
        "train_datagen = ImageDataGenerator(\n",
        "      rescale=1./255,\n",
        "      rotation_range=90,\n",
        "      width_shift_range=0.2,\n",
        "      height_shift_range=0.2,\n",
        "      shear_range=0.2,\n",
        "      zoom_range=0.2,\n",
        "      horizontal_flip=True,\n",
        "      fill_mode='nearest')"
      ],
      "execution_count": 20,
      "outputs": []
    },
    {
      "cell_type": "markdown",
      "metadata": {
        "id": "8Ghtpu7OZ1GT"
      },
      "source": []
    },
    {
      "cell_type": "code",
      "metadata": {
        "id": "hcm9d635Z1Y4",
        "outputId": "a09b08da-dbd0-4c76-81a6-868e6f3da5d9",
        "colab": {
          "base_uri": "https://localhost:8080/"
        }
      },
      "source": [
        "TRAINING_DIR = '/tmp/indiancurrency/training/'\n",
        "#train_datagen = ImageDataGenerator(rescale= 1/255)\n",
        "train_generator = train_datagen.flow_from_directory(\n",
        "    TRAINING_DIR,\n",
        "    batch_size=32,\n",
        "    class_mode='categorical',\n",
        "    target_size=(256, 256)\n",
        ")\n",
        "\n",
        "VALIDATION_DIR = '/tmp/indiancurrency/testing/'\n",
        "validation_datagen = ImageDataGenerator(rescale= 1/255)\n",
        "validation_generator = validation_datagen.flow_from_directory(\n",
        "    VALIDATION_DIR,\n",
        "    batch_size=32,\n",
        "    class_mode='categorical',\n",
        "    target_size=(256, 256)\n",
        ")"
      ],
      "execution_count": 21,
      "outputs": [
        {
          "output_type": "stream",
          "name": "stdout",
          "text": [
            "Found 1763 images belonging to 10 classes.\n",
            "Found 196 images belonging to 10 classes.\n"
          ]
        }
      ]
    },
    {
      "cell_type": "markdown",
      "metadata": {
        "id": "y5laDwzOaG3_"
      },
      "source": []
    },
    {
      "cell_type": "code",
      "metadata": {
        "id": "FkpXL5VOaHNV",
        "outputId": "0eb2f0be-6e05-4e4f-ae7c-4d4badae1563",
        "colab": {
          "base_uri": "https://localhost:8080/"
        }
      },
      "source": [
        "history = model.fit(\n",
        "      train_generator,\n",
        "      epochs=15,  \n",
        "      verbose=1,\n",
        "      validation_data=validation_generator,\n",
        "      callbacks=[callbacks])"
      ],
      "execution_count": 22,
      "outputs": [
        {
          "output_type": "stream",
          "name": "stdout",
          "text": [
            "Epoch 1/15\n",
            "56/56 [==============================] - 32s 514ms/step - loss: 1.8484 - accuracy: 0.3460 - val_loss: 1.5108 - val_accuracy: 0.4796\n",
            "Epoch 2/15\n",
            "56/56 [==============================] - 29s 508ms/step - loss: 1.2692 - accuracy: 0.5939 - val_loss: 1.2345 - val_accuracy: 0.6020\n",
            "Epoch 3/15\n",
            "56/56 [==============================] - 29s 515ms/step - loss: 1.0186 - accuracy: 0.6909 - val_loss: 0.9950 - val_accuracy: 0.6735\n",
            "Epoch 4/15\n",
            "56/56 [==============================] - 29s 509ms/step - loss: 0.8590 - accuracy: 0.7431 - val_loss: 0.8253 - val_accuracy: 0.7704\n",
            "Epoch 5/15\n",
            "56/56 [==============================] - 28s 499ms/step - loss: 0.7492 - accuracy: 0.7924 - val_loss: 0.7653 - val_accuracy: 0.7449\n",
            "Epoch 6/15\n",
            "56/56 [==============================] - 28s 499ms/step - loss: 0.6781 - accuracy: 0.8015 - val_loss: 0.6650 - val_accuracy: 0.7908\n",
            "Epoch 7/15\n",
            "56/56 [==============================] - 28s 501ms/step - loss: 0.5969 - accuracy: 0.8338 - val_loss: 0.6303 - val_accuracy: 0.7908\n",
            "Epoch 8/15\n",
            "56/56 [==============================] - 30s 529ms/step - loss: 0.5466 - accuracy: 0.8508 - val_loss: 0.6352 - val_accuracy: 0.7959\n",
            "Epoch 9/15\n",
            "56/56 [==============================] - 29s 509ms/step - loss: 0.5072 - accuracy: 0.8605 - val_loss: 0.5739 - val_accuracy: 0.8418\n",
            "Epoch 10/15\n",
            "56/56 [==============================] - 29s 514ms/step - loss: 0.4769 - accuracy: 0.8656 - val_loss: 0.5303 - val_accuracy: 0.8214\n",
            "Epoch 11/15\n",
            "56/56 [==============================] - 29s 509ms/step - loss: 0.4563 - accuracy: 0.8661 - val_loss: 0.5446 - val_accuracy: 0.8265\n",
            "Epoch 12/15\n",
            "56/56 [==============================] - 28s 507ms/step - loss: 0.4230 - accuracy: 0.8809 - val_loss: 0.4954 - val_accuracy: 0.8316\n",
            "Epoch 13/15\n",
            "56/56 [==============================] - 29s 512ms/step - loss: 0.4011 - accuracy: 0.8809 - val_loss: 0.4770 - val_accuracy: 0.8418\n",
            "Epoch 14/15\n",
            "56/56 [==============================] - 28s 504ms/step - loss: 0.3926 - accuracy: 0.8837 - val_loss: 0.4580 - val_accuracy: 0.8724\n",
            "Epoch 15/15\n",
            "56/56 [==============================] - 28s 504ms/step - loss: 0.3680 - accuracy: 0.8973 - val_loss: 0.4533 - val_accuracy: 0.8316\n"
          ]
        }
      ]
    },
    {
      "cell_type": "markdown",
      "metadata": {
        "id": "llM6aJV1NjtQ"
      },
      "source": [
        "Plotting loss and accuracy."
      ]
    },
    {
      "cell_type": "code",
      "metadata": {
        "id": "0qLzcUp1NkDq",
        "outputId": "32f9417f-35a2-449f-901d-acc1a7843a31",
        "colab": {
          "base_uri": "https://localhost:8080/",
          "height": 545
        }
      },
      "source": [
        "import matplotlib.pyplot as plt\n",
        "acc = history.history['accuracy']\n",
        "val_acc = history.history['val_accuracy']\n",
        "loss = history.history['loss']\n",
        "val_loss = history.history['val_loss']\n",
        "\n",
        "epochs = range(len(acc))\n",
        "\n",
        "plt.plot(epochs, acc, 'r', label='Training accuracy')\n",
        "plt.plot(epochs, val_acc, 'b', label='Validation accuracy')\n",
        "plt.title('Training and validation accuracy')\n",
        "\n",
        "plt.figure()\n",
        "\n",
        "plt.plot(epochs, loss, 'r', label='Training Loss')\n",
        "plt.plot(epochs, val_loss, 'b', label='Validation Loss')\n",
        "plt.title('Training and validation loss')\n",
        "plt.legend()\n",
        "\n",
        "plt.show()"
      ],
      "execution_count": 23,
      "outputs": [
        {
          "output_type": "display_data",
          "data": {
            "text/plain": [
              "<Figure size 432x288 with 1 Axes>"
            ],
            "image/png": "[encoded data removed]"
          },
          "metadata": {
            "needs_background": "light"
          }
        },
        {
          "output_type": "display_data",
          "data": {
            "text/plain": [
              "<Figure size 432x288 with 1 Axes>"
            ],
            "image/png": "[encoded data removed]"
          },
          "metadata": {
            "needs_background": "light"
          }
        }
      ]
    },
    {
      "cell_type": "markdown",
      "metadata": {
        "id": "-wnt_PHhNVDH"
      },
      "source": [
        "Predicting with new images."
      ]
    },
    {
      "cell_type": "code",
      "metadata": {
        "id": "HaOHs9-iNVb7",
        "outputId": "c99aaab5-1a70-4f1d-f655-5576f9fa8225",
        "colab": {
          "base_uri": "https://localhost:8080/",
          "height": 108
        }
      },
      "source": [
        "import numpy as np\n",
        "from google.colab import files\n",
        "from keras.preprocessing import image\n",
        "import keras.utils as image\n",
        "\n",
        "uploaded = files.upload()\n",
        "\n",
        "for fn in uploaded.keys():\n",
        " \n",
        "  # predicting images\n",
        "  path = fn\n",
        "  img = image.load_img(path, target_size=(256, 256))\n",
        "  x = image.img_to_array(img)\n",
        "  x = np.expand_dims(x, axis=0)\n",
        "\n",
        "  images = np.vstack([x])\n",
        "\n",
        "  #predictions = model.predict(images,batch_size=32)\n",
        "  #class_names = ['10RsNote', '10RsNote', '100RsNote', '100RsNote','20RsNote','200RsNote', '2000RsNote','50RsNote','50RsNote','500RsNote']\n",
        "  #print(model.predict_classes())\n",
        "  print(np.argmax(model.predict(images), axis=-1))"
      ],
      "execution_count": 25,
      "outputs": [
        {
          "output_type": "display_data",
          "data": {
            "text/plain": [
              "<IPython.core.display.HTML object>"
            ],
            "text/html": [
              "\n",
              "     <input type=\"file\" id=\"files-62b0c706-cfd3-44a2-9938-d08a0106c274\" name=\"files[]\" multiple disabled\n",
              "        style=\"border:none\" />\n",
              "     <output id=\"result-62b0c706-cfd3-44a2-9938-d08a0106c274\">\n",
              "      Upload widget is only available when the cell has been executed in the\n",
              "      current browser session. Please rerun this cell to enable.\n",
              "      </output>\n",
              "      <script>// Copyright 2017 Google LLC\n",
              "//\n",
              "// Licensed under the Apache License, Version 2.0 (the \"License\");\n",
              "// you may not use this file except in compliance with the License.\n",
              "// You may obtain a copy of the License at\n",
              "//\n",
              "//      http://www.apache.org/licenses/LICENSE-2.0\n",
              "//\n",
              "// Unless required by applicable law or agreed to in writing, software\n",
              "// distributed under the License is distributed on an \"AS IS\" BASIS,\n",
              "// WITHOUT WARRANTIES OR CONDITIONS OF ANY KIND, either express or implied.\n",
              "// See the License for the specific language governing permissions and\n",
              "// limitations under the License.\n",
              "\n",
              "/**\n",
              " * @fileoverview Helpers for google.colab Python module.\n",
              " */\n",
              "(function(scope) {\n",
              "function span(text, styleAttributes = {}) {\n",
              "  const element = document.createElement('span');\n",
              "  element.textContent = text;\n",
              "  for (const key of Object.keys(styleAttributes)) {\n",
              "    element.style[key] = styleAttributes[key];\n",
              "  }\n",
              "  return element;\n",
              "}\n",
              "\n",
              "// Max number of bytes which will be uploaded at a time.\n",
              "const MAX_PAYLOAD_SIZE = 100 * 1024;\n",
              "\n",
              "function _uploadFiles(inputId, outputId) {\n",
              "  const steps = uploadFilesStep(inputId, outputId);\n",
              "  const outputElement = document.getElementById(outputId);\n",
              "  // Cache steps on the outputElement to make it available for the next call\n",
              "  // to uploadFilesContinue from Python.\n",
              "  outputElement.steps = steps;\n",
              "\n",
              "  return _uploadFilesContinue(outputId);\n",
              "}\n",
              "\n",
              "// This is roughly an async generator (not supported in the browser yet),\n",
              "// where there are multiple asynchronous steps and the Python side is going\n",
              "// to poll for completion of each step.\n",
              "// This uses a Promise to block the python side on completion of each step,\n",
              "// then passes the result of the previous step as the input to the next step.\n",
              "function _uploadFilesContinue(outputId) {\n",
              "  const outputElement = document.getElementById(outputId);\n",
              "  const steps = outputElement.steps;\n",
              "\n",
              "  const next = steps.next(outputElement.lastPromiseValue);\n",
              "  return Promise.resolve(next.value.promise).then((value) => {\n",
              "    // Cache the last promise value to make it available to the next\n",
              "    // step of the generator.\n",
              "    outputElement.lastPromiseValue = value;\n",
              "    return next.value.response;\n",
              "  });\n",
              "}\n",
              "\n",
              "/**\n",
              " * Generator function which is called between each async step of the upload\n",
              " * process.\n",
              " * @param {string} inputId Element ID of the input file picker element.\n",
              " * @param {string} outputId Element ID of the output display.\n",
              " * @return {!Iterable<!Object>} Iterable of next steps.\n",
              " */\n",
              "function* uploadFilesStep(inputId, outputId) {\n",
              "  const inputElement = document.getElementById(inputId);\n",
              "  inputElement.disabled = false;\n",
              "\n",
              "  const outputElement = document.getElementById(outputId);\n",
              "  outputElement.innerHTML = '';\n",
              "\n",
              "  const pickedPromise = new Promise((resolve) => {\n",
              "    inputElement.addEventListener('change', (e) => {\n",
              "      resolve(e.target.files);\n",
              "    });\n",
              "  });\n",
              "\n",
              "  const cancel = document.createElement('button');\n",
              "  inputElement.parentElement.appendChild(cancel);\n",
              "  cancel.textContent = 'Cancel upload';\n",
              "  const cancelPromise = new Promise((resolve) => {\n",
              "    cancel.onclick = () => {\n",
              "      resolve(null);\n",
              "    };\n",
              "  });\n",
              "\n",
              "  // Wait for the user to pick the files.\n",
              "  const files = yield {\n",
              "    promise: Promise.race([pickedPromise, cancelPromise]),\n",
              "    response: {\n",
              "      action: 'starting',\n",
              "    }\n",
              "  };\n",
              "\n",
              "  cancel.remove();\n",
              "\n",
              "  // Disable the input element since further picks are not allowed.\n",
              "  inputElement.disabled = true;\n",
              "\n",
              "  if (!files) {\n",
              "    return {\n",
              "      response: {\n",
              "        action: 'complete',\n",
              "      }\n",
              "    };\n",
              "  }\n",
              "\n",
              "  for (const file of files) {\n",
              "    const li = document.createElement('li');\n",
              "    li.append(span(file.name, {fontWeight: 'bold'}));\n",
              "    li.append(span(\n",
              "        `(${file.type || 'n/a'}) - ${file.size} bytes, ` +\n",
              "        `last modified: ${\n",
              "            file.lastModifiedDate ? file.lastModifiedDate.toLocaleDateString() :\n",
              "                                    'n/a'} - `));\n",
              "    const percent = span('0% done');\n",
              "    li.appendChild(percent);\n",
              "\n",
              "    outputElement.appendChild(li);\n",
              "\n",
              "    const fileDataPromise = new Promise((resolve) => {\n",
              "      const reader = new FileReader();\n",
              "      reader.onload = (e) => {\n",
              "        resolve(e.target.result);\n",
              "      };\n",
              "      reader.readAsArrayBuffer(file);\n",
              "    });\n",
              "    // Wait for the data to be ready.\n",
              "    let fileData = yield {\n",
              "      promise: fileDataPromise,\n",
              "      response: {\n",
              "        action: 'continue',\n",
              "      }\n",
              "    };\n",
              "\n",
              "    // Use a chunked sending to avoid message size limits. See b/62115660.\n",
              "    let position = 0;\n",
              "    do {\n",
              "      const length = Math.min(fileData.byteLength - position, MAX_PAYLOAD_SIZE);\n",
              "      const chunk = new Uint8Array(fileData, position, length);\n",
              "      position += length;\n",
              "\n",
              "      const base64 = btoa(String.fromCharCode.apply(null, chunk));\n",
              "      yield {\n",
              "        response: {\n",
              "          action: 'append',\n",
              "          file: file.name,\n",
              "          data: base64,\n",
              "        },\n",
              "      };\n",
              "\n",
              "      let percentDone = fileData.byteLength === 0 ?\n",
              "          100 :\n",
              "          Math.round((position / fileData.byteLength) * 100);\n",
              "      percent.textContent = `${percentDone}% done`;\n",
              "\n",
              "    } while (position < fileData.byteLength);\n",
              "  }\n",
              "\n",
              "  // All done.\n",
              "  yield {\n",
              "    response: {\n",
              "      action: 'complete',\n",
              "    }\n",
              "  };\n",
              "}\n",
              "\n",
              "scope.google = scope.google || {};\n",
              "scope.google.colab = scope.google.colab || {};\n",
              "scope.google.colab._files = {\n",
              "  _uploadFiles,\n",
              "  _uploadFilesContinue,\n",
              "};\n",
              "})(self);\n",
              "</script> "
            ]
          },
          "metadata": {}
        },
        {
          "output_type": "stream",
          "name": "stdout",
          "text": [
            "Saving assam-india-march-30-2021-indian-new-10-rupees-note-stock-image-2FK9CJ8.jpg to assam-india-march-30-2021-indian-new-10-rupees-note-stock-image-2FK9CJ8 (1).jpg\n",
            "1/1 [==============================] - 1s 1s/step\n",
            "[4]\n"
          ]
        }
      ]
    },
    {
      "cell_type": "markdown",
      "metadata": {
        "id": "DMDfWDtkDSVU"
      },
      "source": [
        "Export the model\n"
      ]
    },
    {
      "cell_type": "code",
      "metadata": {
        "id": "yglkVaQTDWaS",
        "outputId": "c24dddec-8f71-46f5-ffe5-be5bb90b7d8f",
        "colab": {
          "base_uri": "https://localhost:8080/"
        }
      },
      "source": [
        "INDIAN_CURRENCY_SAVED_MODEL = \"exp_saved_model\"\n",
        "tf.saved_model.save(model, INDIAN_CURRENCY_SAVED_MODEL)\n",
        "loaded = tf.saved_model.load(INDIAN_CURRENCY_SAVED_MODEL)\n",
        "print(list(loaded.signatures.keys()))\n",
        "infer = loaded.signatures[\"serving_default\"]\n",
        "print(infer.structured_input_signature)\n",
        "print(infer.structured_outputs)"
      ],
      "execution_count": 26,
      "outputs": [
        {
          "output_type": "stream",
          "name": "stderr",
          "text": [
            "WARNING:absl:Function `_wrapped_model` contains input name(s) mobilenetv2_1.00_224_input with unsupported characters which will be renamed to mobilenetv2_1_00_224_input in the SavedModel.\n",
            "WARNING:absl:Found untraced functions such as _jit_compiled_convolution_op, _jit_compiled_convolution_op, _jit_compiled_convolution_op, _jit_compiled_convolution_op, _jit_compiled_convolution_op while saving (showing 5 of 52). These functions will not be directly callable after loading.\n"
          ]
        },
        {
          "output_type": "stream",
          "name": "stdout",
          "text": [
            "['serving_default']\n",
            "((), {'mobilenetv2_1.00_224_input': TensorSpec(shape=(None, 256, 256, 3), dtype=tf.float32, name='mobilenetv2_1_00_224_input')})\n",
            "{'dense_1': TensorSpec(shape=(None, 10), dtype=tf.float32, name='dense_1')}\n"
          ]
        }
      ]
    },
    {
      "cell_type": "markdown",
      "metadata": {
        "id": "ij0uwP73D-6c"
      },
      "source": [
        "Convert using TFLite's converter"
      ]
    },
    {
      "cell_type": "code",
      "metadata": {
        "id": "i6381dvsECyA"
      },
      "source": [
        "converter = tf.lite.TFLiteConverter.from_saved_model(INDIAN_CURRENCY_SAVED_MODEL)\n",
        "converter.optimizations = [tf.lite.Optimize.DEFAULT]\n",
        "\n",
        "tflite_model = converter.convert()\n",
        "tflite_model_file = 'converted_model.tflite'\n",
        "\n",
        "with open(tflite_model_file, \"wb\") as f:\n",
        "    f.write(tflite_model)"
      ],
      "execution_count": 27,
      "outputs": []
    },
    {
      "cell_type": "markdown",
      "metadata": {
        "id": "PSJE65TmGiHB"
      },
      "source": [
        "CREATING LABEL.TXT"
      ]
    },
    {
      "cell_type": "code",
      "metadata": {
        "id": "EKPyCRhcGj9B"
      },
      "source": [
        "labels = ['10 Rupees', 'Rupees 10','100 Rupees','Rupees 100','20 Rupees','200 Rupees','2000 Rupees','50 Rupees','Rupees 50','500 Rupees']\n",
        "\n",
        "with open('labels.txt', 'w') as f:\n",
        "    f.write('\\n'.join(labels))"
      ],
      "execution_count": 28,
      "outputs": []
    },
    {
      "cell_type": "markdown",
      "metadata": {
        "id": "MIjUgiBxHGXF"
      },
      "source": [
        "Downloading files"
      ]
    },
    {
      "cell_type": "code",
      "metadata": {
        "id": "S5xE4vLyHH3_",
        "outputId": "e6576181-bf1a-4538-b43b-b5d4a48ceeae",
        "colab": {
          "base_uri": "https://localhost:8080/",
          "height": 17
        }
      },
      "source": [
        "\n",
        "try:\n",
        "    from google.colab import files\n",
        "    files.download('converted_model.tflite')\n",
        "    files.download('labels.txt')\n",
        "except:\n",
        "    pass"
      ],
      "execution_count": 29,
      "outputs": [
        {
          "output_type": "display_data",
          "data": {
            "text/plain": [
              "<IPython.core.display.Javascript object>"
            ],
            "application/javascript": [
              "\n",
              "    async function download(id, filename, size) {\n",
              "      if (!google.colab.kernel.accessAllowed) {\n",
              "        return;\n",
              "      }\n",
              "      const div = document.createElement('div');\n",
              "      const label = document.createElement('label');\n",
              "      label.textContent = `Downloading \"${filename}\": `;\n",
              "      div.appendChild(label);\n",
              "      const progress = document.createElement('progress');\n",
              "      progress.max = size;\n",
              "      div.appendChild(progress);\n",
              "      document.body.appendChild(div);\n",
              "\n",
              "      const buffers = [];\n",
              "      let downloaded = 0;\n",
              "\n",
              "      const channel = await google.colab.kernel.comms.open(id);\n",
              "      // Send a message to notify the kernel that we're ready.\n",
              "      channel.send({})\n",
              "\n",
              "      for await (const message of channel.messages) {\n",
              "        // Send a message to notify the kernel that we're ready.\n",
              "        channel.send({})\n",
              "        if (message.buffers) {\n",
              "          for (const buffer of message.buffers) {\n",
              "            buffers.push(buffer);\n",
              "            downloaded += buffer.byteLength;\n",
              "            progress.value = downloaded;\n",
              "          }\n",
              "        }\n",
              "      }\n",
              "      const blob = new Blob(buffers, {type: 'application/binary'});\n",
              "      const a = document.createElement('a');\n",
              "      a.href = window.URL.createObjectURL(blob);\n",
              "      a.download = filename;\n",
              "      div.appendChild(a);\n",
              "      a.click();\n",
              "      div.remove();\n",
              "    }\n",
              "  "
            ]
          },
          "metadata": {}
        },
        {
          "output_type": "display_data",
          "data": {
            "text/plain": [
              "<IPython.core.display.Javascript object>"
            ],
            "application/javascript": [
              "download(\"download_7ae31772-14ea-447c-be98-227448d76392\", \"converted_model.tflite\", 2521960)"
            ]
          },
          "metadata": {}
        },
        {
          "output_type": "display_data",
          "data": {
            "text/plain": [
              "<IPython.core.display.Javascript object>"
            ],
            "application/javascript": [
              "\n",
              "    async function download(id, filename, size) {\n",
              "      if (!google.colab.kernel.accessAllowed) {\n",
              "        return;\n",
              "      }\n",
              "      const div = document.createElement('div');\n",
              "      const label = document.createElement('label');\n",
              "      label.textContent = `Downloading \"${filename}\": `;\n",
              "      div.appendChild(label);\n",
              "      const progress = document.createElement('progress');\n",
              "      progress.max = size;\n",
              "      div.appendChild(progress);\n",
              "      document.body.appendChild(div);\n",
              "\n",
              "      const buffers = [];\n",
              "      let downloaded = 0;\n",
              "\n",
              "      const channel = await google.colab.kernel.comms.open(id);\n",
              "      // Send a message to notify the kernel that we're ready.\n",
              "      channel.send({})\n",
              "\n",
              "      for await (const message of channel.messages) {\n",
              "        // Send a message to notify the kernel that we're ready.\n",
              "        channel.send({})\n",
              "        if (message.buffers) {\n",
              "          for (const buffer of message.buffers) {\n",
              "            buffers.push(buffer);\n",
              "            downloaded += buffer.byteLength;\n",
              "            progress.value = downloaded;\n",
              "          }\n",
              "        }\n",
              "      }\n",
              "      const blob = new Blob(buffers, {type: 'application/binary'});\n",
              "      const a = document.createElement('a');\n",
              "      a.href = window.URL.createObjectURL(blob);\n",
              "      a.download = filename;\n",
              "      div.appendChild(a);\n",
              "      a.click();\n",
              "      div.remove();\n",
              "    }\n",
              "  "
            ]
          },
          "metadata": {}
        },
        {
          "output_type": "display_data",
          "data": {
            "text/plain": [
              "<IPython.core.display.Javascript object>"
            ],
            "application/javascript": [
              "download(\"download_0e52655b-d49f-483e-b2aa-38bf79e8d690\", \"labels.txt\", 105)"
            ]
          },
          "metadata": {}
        }
      ]
    }
  ]
}